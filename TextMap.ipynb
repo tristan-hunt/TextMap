{
 "cells": [
  {
   "cell_type": "code",
   "execution_count": 6,
   "metadata": {
    "scrolled": true
   },
   "outputs": [
    {
     "data": {
      "application/vnd.plotly.v1+json": {
       "config": {
        "plotlyServerURL": "https://plot.ly"
       },
       "data": [
        {
         "base": [
          1
         ],
         "marker": {
          "color": "gainsboro"
         },
         "name": "(a) Proem: 1-8",
         "orientation": "h",
         "text": "a",
         "textposition": "inside",
         "type": "bar",
         "x": [
          7
         ],
         "y": [
          2
         ]
        },
        {
         "base": [
          421
         ],
         "marker": {
          "color": "whitesmoke"
         },
         "name": "(b) Divine Feast (s): 421-427",
         "orientation": "h",
         "text": "b",
         "textposition": "inside",
         "type": "bar",
         "x": [
          6
         ],
         "y": [
          2
         ]
        },
        {
         "base": [
          9
         ],
         "marker": {
          "color": "lightgray"
         },
         "name": "(c) Chryses' supplication: 9-24",
         "orientation": "h",
         "text": "c",
         "textposition": "inside",
         "type": "bar",
         "x": [
          15
         ],
         "y": [
          1
         ]
        },
        {
         "base": [
          35
         ],
         "marker": {
          "color": "#c8c8c8"
         },
         "name": "(d) Chryses' prayer: 35-43",
         "orientation": "h",
         "text": "d",
         "textposition": "inside",
         "type": "bar",
         "x": [
          8
         ],
         "y": [
          1
         ]
        },
        {
         "base": [
          54
         ],
         "marker": {
          "color": "gainsboro"
         },
         "name": "(e) Assembly: 54-194",
         "orientation": "h",
         "text": "e",
         "textposition": "inside",
         "type": "bar",
         "x": [
          140
         ],
         "y": [
          1
         ]
        },
        {
         "base": [
          195
         ],
         "marker": {
          "color": "whitesmoke"
         },
         "name": "(f) Athena's theophany: 195-222",
         "orientation": "h",
         "text": "f",
         "textposition": "inside",
         "type": "bar",
         "x": [
          27
         ],
         "y": [
          1
         ]
        },
        {
         "base": [
          223
         ],
         "marker": {
          "color": "lightgray"
         },
         "name": "(g) Assembly: 223-305",
         "orientation": "h",
         "text": "g",
         "textposition": "inside",
         "type": "bar",
         "x": [
          82
         ],
         "y": [
          1
         ]
        },
        {
         "base": [
          306
         ],
         "marker": {
          "color": "#c8c8c8"
         },
         "name": "(h) Departure: 306-314",
         "orientation": "h",
         "text": "h",
         "textposition": "inside",
         "type": "bar",
         "x": [
          8
         ],
         "y": [
          1
         ]
        },
        {
         "base": [
          315
         ],
         "marker": {
          "color": "gainsboro"
         },
         "name": "(i) Sacrifice: 315-318",
         "orientation": "h",
         "text": "i",
         "textposition": "inside",
         "type": "bar",
         "x": [
          3
         ],
         "y": [
          1
         ]
        },
        {
         "base": [
          318
         ],
         "marker": {
          "color": "whitesmoke"
         },
         "name": "(j) Visit: 318-318",
         "orientation": "h",
         "text": "j",
         "textposition": "inside",
         "type": "bar",
         "x": [
          0
         ],
         "y": [
          1
         ]
        },
        {
         "base": [
          349
         ],
         "marker": {
          "color": "lightgray"
         },
         "name": "(k) Prayer and Thetis' theophany: 349-430",
         "orientation": "h",
         "text": "k",
         "textposition": "inside",
         "type": "bar",
         "x": [
          81
         ],
         "y": [
          1
         ]
        },
        {
         "base": [
          431
         ],
         "marker": {
          "color": "#c8c8c8"
         },
         "name": "(l) Arrival: 431-433",
         "orientation": "h",
         "text": "l",
         "textposition": "inside",
         "type": "bar",
         "x": [
          2
         ],
         "y": [
          1
         ]
        },
        {
         "base": [
          531
         ],
         "marker": {
          "color": "gainsboro"
         },
         "name": "(m) Divine Feast (n): 531-611",
         "orientation": "h",
         "text": "m",
         "textposition": "inside",
         "type": "bar",
         "x": [
          80
         ],
         "y": [
          1
         ]
        }
       ],
       "layout": {
        "autosize": false,
        "barmode": "relative",
        "height": 2000,
        "template": {
         "data": {
          "bar": [
           {
            "error_x": {
             "color": "#2a3f5f"
            },
            "error_y": {
             "color": "#2a3f5f"
            },
            "marker": {
             "line": {
              "color": "#E5ECF6",
              "width": 0.5
             }
            },
            "type": "bar"
           }
          ],
          "barpolar": [
           {
            "marker": {
             "line": {
              "color": "#E5ECF6",
              "width": 0.5
             }
            },
            "type": "barpolar"
           }
          ],
          "carpet": [
           {
            "aaxis": {
             "endlinecolor": "#2a3f5f",
             "gridcolor": "white",
             "linecolor": "white",
             "minorgridcolor": "white",
             "startlinecolor": "#2a3f5f"
            },
            "baxis": {
             "endlinecolor": "#2a3f5f",
             "gridcolor": "white",
             "linecolor": "white",
             "minorgridcolor": "white",
             "startlinecolor": "#2a3f5f"
            },
            "type": "carpet"
           }
          ],
          "choropleth": [
           {
            "colorbar": {
             "outlinewidth": 0,
             "ticks": ""
            },
            "type": "choropleth"
           }
          ],
          "contour": [
           {
            "colorbar": {
             "outlinewidth": 0,
             "ticks": ""
            },
            "colorscale": [
             [
              0,
              "#0d0887"
             ],
             [
              0.1111111111111111,
              "#46039f"
             ],
             [
              0.2222222222222222,
              "#7201a8"
             ],
             [
              0.3333333333333333,
              "#9c179e"
             ],
             [
              0.4444444444444444,
              "#bd3786"
             ],
             [
              0.5555555555555556,
              "#d8576b"
             ],
             [
              0.6666666666666666,
              "#ed7953"
             ],
             [
              0.7777777777777778,
              "#fb9f3a"
             ],
             [
              0.8888888888888888,
              "#fdca26"
             ],
             [
              1,
              "#f0f921"
             ]
            ],
            "type": "contour"
           }
          ],
          "contourcarpet": [
           {
            "colorbar": {
             "outlinewidth": 0,
             "ticks": ""
            },
            "type": "contourcarpet"
           }
          ],
          "heatmap": [
           {
            "colorbar": {
             "outlinewidth": 0,
             "ticks": ""
            },
            "colorscale": [
             [
              0,
              "#0d0887"
             ],
             [
              0.1111111111111111,
              "#46039f"
             ],
             [
              0.2222222222222222,
              "#7201a8"
             ],
             [
              0.3333333333333333,
              "#9c179e"
             ],
             [
              0.4444444444444444,
              "#bd3786"
             ],
             [
              0.5555555555555556,
              "#d8576b"
             ],
             [
              0.6666666666666666,
              "#ed7953"
             ],
             [
              0.7777777777777778,
              "#fb9f3a"
             ],
             [
              0.8888888888888888,
              "#fdca26"
             ],
             [
              1,
              "#f0f921"
             ]
            ],
            "type": "heatmap"
           }
          ],
          "heatmapgl": [
           {
            "colorbar": {
             "outlinewidth": 0,
             "ticks": ""
            },
            "colorscale": [
             [
              0,
              "#0d0887"
             ],
             [
              0.1111111111111111,
              "#46039f"
             ],
             [
              0.2222222222222222,
              "#7201a8"
             ],
             [
              0.3333333333333333,
              "#9c179e"
             ],
             [
              0.4444444444444444,
              "#bd3786"
             ],
             [
              0.5555555555555556,
              "#d8576b"
             ],
             [
              0.6666666666666666,
              "#ed7953"
             ],
             [
              0.7777777777777778,
              "#fb9f3a"
             ],
             [
              0.8888888888888888,
              "#fdca26"
             ],
             [
              1,
              "#f0f921"
             ]
            ],
            "type": "heatmapgl"
           }
          ],
          "histogram": [
           {
            "marker": {
             "colorbar": {
              "outlinewidth": 0,
              "ticks": ""
             }
            },
            "type": "histogram"
           }
          ],
          "histogram2d": [
           {
            "colorbar": {
             "outlinewidth": 0,
             "ticks": ""
            },
            "colorscale": [
             [
              0,
              "#0d0887"
             ],
             [
              0.1111111111111111,
              "#46039f"
             ],
             [
              0.2222222222222222,
              "#7201a8"
             ],
             [
              0.3333333333333333,
              "#9c179e"
             ],
             [
              0.4444444444444444,
              "#bd3786"
             ],
             [
              0.5555555555555556,
              "#d8576b"
             ],
             [
              0.6666666666666666,
              "#ed7953"
             ],
             [
              0.7777777777777778,
              "#fb9f3a"
             ],
             [
              0.8888888888888888,
              "#fdca26"
             ],
             [
              1,
              "#f0f921"
             ]
            ],
            "type": "histogram2d"
           }
          ],
          "histogram2dcontour": [
           {
            "colorbar": {
             "outlinewidth": 0,
             "ticks": ""
            },
            "colorscale": [
             [
              0,
              "#0d0887"
             ],
             [
              0.1111111111111111,
              "#46039f"
             ],
             [
              0.2222222222222222,
              "#7201a8"
             ],
             [
              0.3333333333333333,
              "#9c179e"
             ],
             [
              0.4444444444444444,
              "#bd3786"
             ],
             [
              0.5555555555555556,
              "#d8576b"
             ],
             [
              0.6666666666666666,
              "#ed7953"
             ],
             [
              0.7777777777777778,
              "#fb9f3a"
             ],
             [
              0.8888888888888888,
              "#fdca26"
             ],
             [
              1,
              "#f0f921"
             ]
            ],
            "type": "histogram2dcontour"
           }
          ],
          "mesh3d": [
           {
            "colorbar": {
             "outlinewidth": 0,
             "ticks": ""
            },
            "type": "mesh3d"
           }
          ],
          "parcoords": [
           {
            "line": {
             "colorbar": {
              "outlinewidth": 0,
              "ticks": ""
             }
            },
            "type": "parcoords"
           }
          ],
          "pie": [
           {
            "automargin": true,
            "type": "pie"
           }
          ],
          "scatter": [
           {
            "marker": {
             "colorbar": {
              "outlinewidth": 0,
              "ticks": ""
             }
            },
            "type": "scatter"
           }
          ],
          "scatter3d": [
           {
            "line": {
             "colorbar": {
              "outlinewidth": 0,
              "ticks": ""
             }
            },
            "marker": {
             "colorbar": {
              "outlinewidth": 0,
              "ticks": ""
             }
            },
            "type": "scatter3d"
           }
          ],
          "scattercarpet": [
           {
            "marker": {
             "colorbar": {
              "outlinewidth": 0,
              "ticks": ""
             }
            },
            "type": "scattercarpet"
           }
          ],
          "scattergeo": [
           {
            "marker": {
             "colorbar": {
              "outlinewidth": 0,
              "ticks": ""
             }
            },
            "type": "scattergeo"
           }
          ],
          "scattergl": [
           {
            "marker": {
             "colorbar": {
              "outlinewidth": 0,
              "ticks": ""
             }
            },
            "type": "scattergl"
           }
          ],
          "scattermapbox": [
           {
            "marker": {
             "colorbar": {
              "outlinewidth": 0,
              "ticks": ""
             }
            },
            "type": "scattermapbox"
           }
          ],
          "scatterpolar": [
           {
            "marker": {
             "colorbar": {
              "outlinewidth": 0,
              "ticks": ""
             }
            },
            "type": "scatterpolar"
           }
          ],
          "scatterpolargl": [
           {
            "marker": {
             "colorbar": {
              "outlinewidth": 0,
              "ticks": ""
             }
            },
            "type": "scatterpolargl"
           }
          ],
          "scatterternary": [
           {
            "marker": {
             "colorbar": {
              "outlinewidth": 0,
              "ticks": ""
             }
            },
            "type": "scatterternary"
           }
          ],
          "surface": [
           {
            "colorbar": {
             "outlinewidth": 0,
             "ticks": ""
            },
            "colorscale": [
             [
              0,
              "#0d0887"
             ],
             [
              0.1111111111111111,
              "#46039f"
             ],
             [
              0.2222222222222222,
              "#7201a8"
             ],
             [
              0.3333333333333333,
              "#9c179e"
             ],
             [
              0.4444444444444444,
              "#bd3786"
             ],
             [
              0.5555555555555556,
              "#d8576b"
             ],
             [
              0.6666666666666666,
              "#ed7953"
             ],
             [
              0.7777777777777778,
              "#fb9f3a"
             ],
             [
              0.8888888888888888,
              "#fdca26"
             ],
             [
              1,
              "#f0f921"
             ]
            ],
            "type": "surface"
           }
          ],
          "table": [
           {
            "cells": {
             "fill": {
              "color": "#EBF0F8"
             },
             "line": {
              "color": "white"
             }
            },
            "header": {
             "fill": {
              "color": "#C8D4E3"
             },
             "line": {
              "color": "white"
             }
            },
            "type": "table"
           }
          ]
         },
         "layout": {
          "annotationdefaults": {
           "arrowcolor": "#2a3f5f",
           "arrowhead": 0,
           "arrowwidth": 1
          },
          "coloraxis": {
           "colorbar": {
            "outlinewidth": 0,
            "ticks": ""
           }
          },
          "colorscale": {
           "diverging": [
            [
             0,
             "#8e0152"
            ],
            [
             0.1,
             "#c51b7d"
            ],
            [
             0.2,
             "#de77ae"
            ],
            [
             0.3,
             "#f1b6da"
            ],
            [
             0.4,
             "#fde0ef"
            ],
            [
             0.5,
             "#f7f7f7"
            ],
            [
             0.6,
             "#e6f5d0"
            ],
            [
             0.7,
             "#b8e186"
            ],
            [
             0.8,
             "#7fbc41"
            ],
            [
             0.9,
             "#4d9221"
            ],
            [
             1,
             "#276419"
            ]
           ],
           "sequential": [
            [
             0,
             "#0d0887"
            ],
            [
             0.1111111111111111,
             "#46039f"
            ],
            [
             0.2222222222222222,
             "#7201a8"
            ],
            [
             0.3333333333333333,
             "#9c179e"
            ],
            [
             0.4444444444444444,
             "#bd3786"
            ],
            [
             0.5555555555555556,
             "#d8576b"
            ],
            [
             0.6666666666666666,
             "#ed7953"
            ],
            [
             0.7777777777777778,
             "#fb9f3a"
            ],
            [
             0.8888888888888888,
             "#fdca26"
            ],
            [
             1,
             "#f0f921"
            ]
           ],
           "sequentialminus": [
            [
             0,
             "#0d0887"
            ],
            [
             0.1111111111111111,
             "#46039f"
            ],
            [
             0.2222222222222222,
             "#7201a8"
            ],
            [
             0.3333333333333333,
             "#9c179e"
            ],
            [
             0.4444444444444444,
             "#bd3786"
            ],
            [
             0.5555555555555556,
             "#d8576b"
            ],
            [
             0.6666666666666666,
             "#ed7953"
            ],
            [
             0.7777777777777778,
             "#fb9f3a"
            ],
            [
             0.8888888888888888,
             "#fdca26"
            ],
            [
             1,
             "#f0f921"
            ]
           ]
          },
          "colorway": [
           "#636efa",
           "#EF553B",
           "#00cc96",
           "#ab63fa",
           "#FFA15A",
           "#19d3f3",
           "#FF6692",
           "#B6E880",
           "#FF97FF",
           "#FECB52"
          ],
          "font": {
           "color": "#2a3f5f"
          },
          "geo": {
           "bgcolor": "white",
           "lakecolor": "white",
           "landcolor": "#E5ECF6",
           "showlakes": true,
           "showland": true,
           "subunitcolor": "white"
          },
          "hoverlabel": {
           "align": "left"
          },
          "hovermode": "closest",
          "mapbox": {
           "style": "light"
          },
          "paper_bgcolor": "white",
          "plot_bgcolor": "#E5ECF6",
          "polar": {
           "angularaxis": {
            "gridcolor": "white",
            "linecolor": "white",
            "ticks": ""
           },
           "bgcolor": "#E5ECF6",
           "radialaxis": {
            "gridcolor": "white",
            "linecolor": "white",
            "ticks": ""
           }
          },
          "scene": {
           "xaxis": {
            "backgroundcolor": "#E5ECF6",
            "gridcolor": "white",
            "gridwidth": 2,
            "linecolor": "white",
            "showbackground": true,
            "ticks": "",
            "zerolinecolor": "white"
           },
           "yaxis": {
            "backgroundcolor": "#E5ECF6",
            "gridcolor": "white",
            "gridwidth": 2,
            "linecolor": "white",
            "showbackground": true,
            "ticks": "",
            "zerolinecolor": "white"
           },
           "zaxis": {
            "backgroundcolor": "#E5ECF6",
            "gridcolor": "white",
            "gridwidth": 2,
            "linecolor": "white",
            "showbackground": true,
            "ticks": "",
            "zerolinecolor": "white"
           }
          },
          "shapedefaults": {
           "line": {
            "color": "#2a3f5f"
           }
          },
          "ternary": {
           "aaxis": {
            "gridcolor": "white",
            "linecolor": "white",
            "ticks": ""
           },
           "baxis": {
            "gridcolor": "white",
            "linecolor": "white",
            "ticks": ""
           },
           "bgcolor": "#E5ECF6",
           "caxis": {
            "gridcolor": "white",
            "linecolor": "white",
            "ticks": ""
           }
          },
          "title": {
           "x": 0.05
          },
          "xaxis": {
           "automargin": true,
           "gridcolor": "white",
           "linecolor": "white",
           "ticks": "",
           "title": {
            "standoff": 15
           },
           "zerolinecolor": "white",
           "zerolinewidth": 2
          },
          "yaxis": {
           "automargin": true,
           "gridcolor": "white",
           "linecolor": "white",
           "ticks": "",
           "title": {
            "standoff": 15
           },
           "zerolinecolor": "white",
           "zerolinewidth": 2
          }
         }
        },
        "title": {
         "text": "Book 1"
        },
        "width": 2000,
        "xaxis": {
         "title": {
          "text": "Line Number"
         }
        },
        "yaxis": {
         "tickmode": "array",
         "ticktext": [
          "Story Time",
          "Narrative Time"
         ],
         "tickvals": [
          1,
          2
         ]
        }
       }
      },
      "text/html": [
       "<div>\n",
       "        \n",
       "        \n",
       "            <div id=\"7829dca5-98e2-405c-bebb-694d69b0830f\" class=\"plotly-graph-div\" style=\"height:2000px; width:2000px;\"></div>\n",
       "            <script type=\"text/javascript\">\n",
       "                require([\"plotly\"], function(Plotly) {\n",
       "                    window.PLOTLYENV=window.PLOTLYENV || {};\n",
       "                    \n",
       "                if (document.getElementById(\"7829dca5-98e2-405c-bebb-694d69b0830f\")) {\n",
       "                    Plotly.newPlot(\n",
       "                        '7829dca5-98e2-405c-bebb-694d69b0830f',\n",
       "                        [{\"base\": [1], \"marker\": {\"color\": \"gainsboro\"}, \"name\": \"(a) Proem: 1-8\", \"orientation\": \"h\", \"text\": \"a\", \"textposition\": \"inside\", \"type\": \"bar\", \"x\": [7], \"y\": [2]}, {\"base\": [421], \"marker\": {\"color\": \"whitesmoke\"}, \"name\": \"(b) Divine Feast (s): 421-427\", \"orientation\": \"h\", \"text\": \"b\", \"textposition\": \"inside\", \"type\": \"bar\", \"x\": [6], \"y\": [2]}, {\"base\": [9], \"marker\": {\"color\": \"lightgray\"}, \"name\": \"(c) Chryses' supplication: 9-24\", \"orientation\": \"h\", \"text\": \"c\", \"textposition\": \"inside\", \"type\": \"bar\", \"x\": [15], \"y\": [1]}, {\"base\": [35], \"marker\": {\"color\": \"#c8c8c8\"}, \"name\": \"(d) Chryses' prayer: 35-43\", \"orientation\": \"h\", \"text\": \"d\", \"textposition\": \"inside\", \"type\": \"bar\", \"x\": [8], \"y\": [1]}, {\"base\": [54], \"marker\": {\"color\": \"gainsboro\"}, \"name\": \"(e) Assembly: 54-194\", \"orientation\": \"h\", \"text\": \"e\", \"textposition\": \"inside\", \"type\": \"bar\", \"x\": [140], \"y\": [1]}, {\"base\": [195], \"marker\": {\"color\": \"whitesmoke\"}, \"name\": \"(f) Athena's theophany: 195-222\", \"orientation\": \"h\", \"text\": \"f\", \"textposition\": \"inside\", \"type\": \"bar\", \"x\": [27], \"y\": [1]}, {\"base\": [223], \"marker\": {\"color\": \"lightgray\"}, \"name\": \"(g) Assembly: 223-305\", \"orientation\": \"h\", \"text\": \"g\", \"textposition\": \"inside\", \"type\": \"bar\", \"x\": [82], \"y\": [1]}, {\"base\": [306], \"marker\": {\"color\": \"#c8c8c8\"}, \"name\": \"(h) Departure: 306-314\", \"orientation\": \"h\", \"text\": \"h\", \"textposition\": \"inside\", \"type\": \"bar\", \"x\": [8], \"y\": [1]}, {\"base\": [315], \"marker\": {\"color\": \"gainsboro\"}, \"name\": \"(i) Sacrifice: 315-318\", \"orientation\": \"h\", \"text\": \"i\", \"textposition\": \"inside\", \"type\": \"bar\", \"x\": [3], \"y\": [1]}, {\"base\": [318], \"marker\": {\"color\": \"whitesmoke\"}, \"name\": \"(j) Visit: 318-318\", \"orientation\": \"h\", \"text\": \"j\", \"textposition\": \"inside\", \"type\": \"bar\", \"x\": [0], \"y\": [1]}, {\"base\": [349], \"marker\": {\"color\": \"lightgray\"}, \"name\": \"(k) Prayer and Thetis' theophany: 349-430\", \"orientation\": \"h\", \"text\": \"k\", \"textposition\": \"inside\", \"type\": \"bar\", \"x\": [81], \"y\": [1]}, {\"base\": [431], \"marker\": {\"color\": \"#c8c8c8\"}, \"name\": \"(l) Arrival: 431-433\", \"orientation\": \"h\", \"text\": \"l\", \"textposition\": \"inside\", \"type\": \"bar\", \"x\": [2], \"y\": [1]}, {\"base\": [531], \"marker\": {\"color\": \"gainsboro\"}, \"name\": \"(m) Divine Feast (n): 531-611\", \"orientation\": \"h\", \"text\": \"m\", \"textposition\": \"inside\", \"type\": \"bar\", \"x\": [80], \"y\": [1]}],\n",
       "                        {\"autosize\": false, \"barmode\": \"relative\", \"height\": 2000, \"template\": {\"data\": {\"bar\": [{\"error_x\": {\"color\": \"#2a3f5f\"}, \"error_y\": {\"color\": \"#2a3f5f\"}, \"marker\": {\"line\": {\"color\": \"#E5ECF6\", \"width\": 0.5}}, \"type\": \"bar\"}], \"barpolar\": [{\"marker\": {\"line\": {\"color\": \"#E5ECF6\", \"width\": 0.5}}, \"type\": \"barpolar\"}], \"carpet\": [{\"aaxis\": {\"endlinecolor\": \"#2a3f5f\", \"gridcolor\": \"white\", \"linecolor\": \"white\", \"minorgridcolor\": \"white\", \"startlinecolor\": \"#2a3f5f\"}, \"baxis\": {\"endlinecolor\": \"#2a3f5f\", \"gridcolor\": \"white\", \"linecolor\": \"white\", \"minorgridcolor\": \"white\", \"startlinecolor\": \"#2a3f5f\"}, \"type\": \"carpet\"}], \"choropleth\": [{\"colorbar\": {\"outlinewidth\": 0, \"ticks\": \"\"}, \"type\": \"choropleth\"}], \"contour\": [{\"colorbar\": {\"outlinewidth\": 0, \"ticks\": \"\"}, \"colorscale\": [[0.0, \"#0d0887\"], [0.1111111111111111, \"#46039f\"], [0.2222222222222222, \"#7201a8\"], [0.3333333333333333, \"#9c179e\"], [0.4444444444444444, \"#bd3786\"], [0.5555555555555556, \"#d8576b\"], [0.6666666666666666, \"#ed7953\"], [0.7777777777777778, \"#fb9f3a\"], [0.8888888888888888, \"#fdca26\"], [1.0, \"#f0f921\"]], \"type\": \"contour\"}], \"contourcarpet\": [{\"colorbar\": {\"outlinewidth\": 0, \"ticks\": \"\"}, \"type\": \"contourcarpet\"}], \"heatmap\": [{\"colorbar\": {\"outlinewidth\": 0, \"ticks\": \"\"}, \"colorscale\": [[0.0, \"#0d0887\"], [0.1111111111111111, \"#46039f\"], [0.2222222222222222, \"#7201a8\"], [0.3333333333333333, \"#9c179e\"], [0.4444444444444444, \"#bd3786\"], [0.5555555555555556, \"#d8576b\"], [0.6666666666666666, \"#ed7953\"], [0.7777777777777778, \"#fb9f3a\"], [0.8888888888888888, \"#fdca26\"], [1.0, \"#f0f921\"]], \"type\": \"heatmap\"}], \"heatmapgl\": [{\"colorbar\": {\"outlinewidth\": 0, \"ticks\": \"\"}, \"colorscale\": [[0.0, \"#0d0887\"], [0.1111111111111111, \"#46039f\"], [0.2222222222222222, \"#7201a8\"], [0.3333333333333333, \"#9c179e\"], [0.4444444444444444, \"#bd3786\"], [0.5555555555555556, \"#d8576b\"], [0.6666666666666666, \"#ed7953\"], [0.7777777777777778, \"#fb9f3a\"], [0.8888888888888888, \"#fdca26\"], [1.0, \"#f0f921\"]], \"type\": \"heatmapgl\"}], \"histogram\": [{\"marker\": {\"colorbar\": {\"outlinewidth\": 0, \"ticks\": \"\"}}, \"type\": \"histogram\"}], \"histogram2d\": [{\"colorbar\": {\"outlinewidth\": 0, \"ticks\": \"\"}, \"colorscale\": [[0.0, \"#0d0887\"], [0.1111111111111111, \"#46039f\"], [0.2222222222222222, \"#7201a8\"], [0.3333333333333333, \"#9c179e\"], [0.4444444444444444, \"#bd3786\"], [0.5555555555555556, \"#d8576b\"], [0.6666666666666666, \"#ed7953\"], [0.7777777777777778, \"#fb9f3a\"], [0.8888888888888888, \"#fdca26\"], [1.0, \"#f0f921\"]], \"type\": \"histogram2d\"}], \"histogram2dcontour\": [{\"colorbar\": {\"outlinewidth\": 0, \"ticks\": \"\"}, \"colorscale\": [[0.0, \"#0d0887\"], [0.1111111111111111, \"#46039f\"], [0.2222222222222222, \"#7201a8\"], [0.3333333333333333, \"#9c179e\"], [0.4444444444444444, \"#bd3786\"], [0.5555555555555556, \"#d8576b\"], [0.6666666666666666, \"#ed7953\"], [0.7777777777777778, \"#fb9f3a\"], [0.8888888888888888, \"#fdca26\"], [1.0, \"#f0f921\"]], \"type\": \"histogram2dcontour\"}], \"mesh3d\": [{\"colorbar\": {\"outlinewidth\": 0, \"ticks\": \"\"}, \"type\": \"mesh3d\"}], \"parcoords\": [{\"line\": {\"colorbar\": {\"outlinewidth\": 0, \"ticks\": \"\"}}, \"type\": \"parcoords\"}], \"pie\": [{\"automargin\": true, \"type\": \"pie\"}], \"scatter\": [{\"marker\": {\"colorbar\": {\"outlinewidth\": 0, \"ticks\": \"\"}}, \"type\": \"scatter\"}], \"scatter3d\": [{\"line\": {\"colorbar\": {\"outlinewidth\": 0, \"ticks\": \"\"}}, \"marker\": {\"colorbar\": {\"outlinewidth\": 0, \"ticks\": \"\"}}, \"type\": \"scatter3d\"}], \"scattercarpet\": [{\"marker\": {\"colorbar\": {\"outlinewidth\": 0, \"ticks\": \"\"}}, \"type\": \"scattercarpet\"}], \"scattergeo\": [{\"marker\": {\"colorbar\": {\"outlinewidth\": 0, \"ticks\": \"\"}}, \"type\": \"scattergeo\"}], \"scattergl\": [{\"marker\": {\"colorbar\": {\"outlinewidth\": 0, \"ticks\": \"\"}}, \"type\": \"scattergl\"}], \"scattermapbox\": [{\"marker\": {\"colorbar\": {\"outlinewidth\": 0, \"ticks\": \"\"}}, \"type\": \"scattermapbox\"}], \"scatterpolar\": [{\"marker\": {\"colorbar\": {\"outlinewidth\": 0, \"ticks\": \"\"}}, \"type\": \"scatterpolar\"}], \"scatterpolargl\": [{\"marker\": {\"colorbar\": {\"outlinewidth\": 0, \"ticks\": \"\"}}, \"type\": \"scatterpolargl\"}], \"scatterternary\": [{\"marker\": {\"colorbar\": {\"outlinewidth\": 0, \"ticks\": \"\"}}, \"type\": \"scatterternary\"}], \"surface\": [{\"colorbar\": {\"outlinewidth\": 0, \"ticks\": \"\"}, \"colorscale\": [[0.0, \"#0d0887\"], [0.1111111111111111, \"#46039f\"], [0.2222222222222222, \"#7201a8\"], [0.3333333333333333, \"#9c179e\"], [0.4444444444444444, \"#bd3786\"], [0.5555555555555556, \"#d8576b\"], [0.6666666666666666, \"#ed7953\"], [0.7777777777777778, \"#fb9f3a\"], [0.8888888888888888, \"#fdca26\"], [1.0, \"#f0f921\"]], \"type\": \"surface\"}], \"table\": [{\"cells\": {\"fill\": {\"color\": \"#EBF0F8\"}, \"line\": {\"color\": \"white\"}}, \"header\": {\"fill\": {\"color\": \"#C8D4E3\"}, \"line\": {\"color\": \"white\"}}, \"type\": \"table\"}]}, \"layout\": {\"annotationdefaults\": {\"arrowcolor\": \"#2a3f5f\", \"arrowhead\": 0, \"arrowwidth\": 1}, \"coloraxis\": {\"colorbar\": {\"outlinewidth\": 0, \"ticks\": \"\"}}, \"colorscale\": {\"diverging\": [[0, \"#8e0152\"], [0.1, \"#c51b7d\"], [0.2, \"#de77ae\"], [0.3, \"#f1b6da\"], [0.4, \"#fde0ef\"], [0.5, \"#f7f7f7\"], [0.6, \"#e6f5d0\"], [0.7, \"#b8e186\"], [0.8, \"#7fbc41\"], [0.9, \"#4d9221\"], [1, \"#276419\"]], \"sequential\": [[0.0, \"#0d0887\"], [0.1111111111111111, \"#46039f\"], [0.2222222222222222, \"#7201a8\"], [0.3333333333333333, \"#9c179e\"], [0.4444444444444444, \"#bd3786\"], [0.5555555555555556, \"#d8576b\"], [0.6666666666666666, \"#ed7953\"], [0.7777777777777778, \"#fb9f3a\"], [0.8888888888888888, \"#fdca26\"], [1.0, \"#f0f921\"]], \"sequentialminus\": [[0.0, \"#0d0887\"], [0.1111111111111111, \"#46039f\"], [0.2222222222222222, \"#7201a8\"], [0.3333333333333333, \"#9c179e\"], [0.4444444444444444, \"#bd3786\"], [0.5555555555555556, \"#d8576b\"], [0.6666666666666666, \"#ed7953\"], [0.7777777777777778, \"#fb9f3a\"], [0.8888888888888888, \"#fdca26\"], [1.0, \"#f0f921\"]]}, \"colorway\": [\"#636efa\", \"#EF553B\", \"#00cc96\", \"#ab63fa\", \"#FFA15A\", \"#19d3f3\", \"#FF6692\", \"#B6E880\", \"#FF97FF\", \"#FECB52\"], \"font\": {\"color\": \"#2a3f5f\"}, \"geo\": {\"bgcolor\": \"white\", \"lakecolor\": \"white\", \"landcolor\": \"#E5ECF6\", \"showlakes\": true, \"showland\": true, \"subunitcolor\": \"white\"}, \"hoverlabel\": {\"align\": \"left\"}, \"hovermode\": \"closest\", \"mapbox\": {\"style\": \"light\"}, \"paper_bgcolor\": \"white\", \"plot_bgcolor\": \"#E5ECF6\", \"polar\": {\"angularaxis\": {\"gridcolor\": \"white\", \"linecolor\": \"white\", \"ticks\": \"\"}, \"bgcolor\": \"#E5ECF6\", \"radialaxis\": {\"gridcolor\": \"white\", \"linecolor\": \"white\", \"ticks\": \"\"}}, \"scene\": {\"xaxis\": {\"backgroundcolor\": \"#E5ECF6\", \"gridcolor\": \"white\", \"gridwidth\": 2, \"linecolor\": \"white\", \"showbackground\": true, \"ticks\": \"\", \"zerolinecolor\": \"white\"}, \"yaxis\": {\"backgroundcolor\": \"#E5ECF6\", \"gridcolor\": \"white\", \"gridwidth\": 2, \"linecolor\": \"white\", \"showbackground\": true, \"ticks\": \"\", \"zerolinecolor\": \"white\"}, \"zaxis\": {\"backgroundcolor\": \"#E5ECF6\", \"gridcolor\": \"white\", \"gridwidth\": 2, \"linecolor\": \"white\", \"showbackground\": true, \"ticks\": \"\", \"zerolinecolor\": \"white\"}}, \"shapedefaults\": {\"line\": {\"color\": \"#2a3f5f\"}}, \"ternary\": {\"aaxis\": {\"gridcolor\": \"white\", \"linecolor\": \"white\", \"ticks\": \"\"}, \"baxis\": {\"gridcolor\": \"white\", \"linecolor\": \"white\", \"ticks\": \"\"}, \"bgcolor\": \"#E5ECF6\", \"caxis\": {\"gridcolor\": \"white\", \"linecolor\": \"white\", \"ticks\": \"\"}}, \"title\": {\"x\": 0.05}, \"xaxis\": {\"automargin\": true, \"gridcolor\": \"white\", \"linecolor\": \"white\", \"ticks\": \"\", \"title\": {\"standoff\": 15}, \"zerolinecolor\": \"white\", \"zerolinewidth\": 2}, \"yaxis\": {\"automargin\": true, \"gridcolor\": \"white\", \"linecolor\": \"white\", \"ticks\": \"\", \"title\": {\"standoff\": 15}, \"zerolinecolor\": \"white\", \"zerolinewidth\": 2}}}, \"title\": {\"text\": \"Book 1\"}, \"width\": 2000, \"xaxis\": {\"title\": {\"text\": \"Line Number\"}}, \"yaxis\": {\"tickmode\": \"array\", \"ticktext\": [\"Story Time\", \"Narrative Time\"], \"tickvals\": [1, 2]}},\n",
       "                        {\"responsive\": true}\n",
       "                    ).then(function(){\n",
       "                            \n",
       "var gd = document.getElementById('7829dca5-98e2-405c-bebb-694d69b0830f');\n",
       "var x = new MutationObserver(function (mutations, observer) {{\n",
       "        var display = window.getComputedStyle(gd).display;\n",
       "        if (!display || display === 'none') {{\n",
       "            console.log([gd, 'removed!']);\n",
       "            Plotly.purge(gd);\n",
       "            observer.disconnect();\n",
       "        }}\n",
       "}});\n",
       "\n",
       "// Listen for the removal of the full notebook cells\n",
       "var notebookContainer = gd.closest('#notebook-container');\n",
       "if (notebookContainer) {{\n",
       "    x.observe(notebookContainer, {childList: true});\n",
       "}}\n",
       "\n",
       "// Listen for the clearing of the current output cell\n",
       "var outputEl = gd.closest('.output');\n",
       "if (outputEl) {{\n",
       "    x.observe(outputEl, {childList: true});\n",
       "}}\n",
       "\n",
       "                        })\n",
       "                };\n",
       "                });\n",
       "            </script>\n",
       "        </div>"
      ]
     },
     "metadata": {},
     "output_type": "display_data"
    },
    {
     "data": {
      "application/vnd.plotly.v1+json": {
       "config": {
        "plotlyServerURL": "https://plot.ly"
       },
       "data": [
        {
         "base": [
          1
         ],
         "marker": {
          "color": "whitesmoke"
         },
         "name": "(n) Proem: 1-8",
         "orientation": "h",
         "text": "n",
         "textposition": "inside",
         "type": "bar",
         "x": [
          7
         ],
         "y": [
          2
         ]
        },
        {
         "base": [
          421
         ],
         "marker": {
          "color": "lightgray"
         },
         "name": "(o) Divine Feast (s): 421-427",
         "orientation": "h",
         "text": "o",
         "textposition": "inside",
         "type": "bar",
         "x": [
          6
         ],
         "y": [
          2
         ]
        },
        {
         "base": [
          9
         ],
         "marker": {
          "color": "#c8c8c8"
         },
         "name": "(p) Chryses' supplication: 9-24",
         "orientation": "h",
         "text": "p",
         "textposition": "inside",
         "type": "bar",
         "x": [
          15
         ],
         "y": [
          1
         ]
        },
        {
         "base": [
          35
         ],
         "marker": {
          "color": "gainsboro"
         },
         "name": "(q) Chryses' prayer: 35-43",
         "orientation": "h",
         "text": "q",
         "textposition": "inside",
         "type": "bar",
         "x": [
          8
         ],
         "y": [
          1
         ]
        },
        {
         "base": [
          54
         ],
         "marker": {
          "color": "whitesmoke"
         },
         "name": "(r) Assembly: 54-194",
         "orientation": "h",
         "text": "r",
         "textposition": "inside",
         "type": "bar",
         "x": [
          140
         ],
         "y": [
          1
         ]
        },
        {
         "base": [
          195
         ],
         "marker": {
          "color": "lightgray"
         },
         "name": "(s) Athena's theophany: 195-222",
         "orientation": "h",
         "text": "s",
         "textposition": "inside",
         "type": "bar",
         "x": [
          27
         ],
         "y": [
          1
         ]
        },
        {
         "base": [
          223
         ],
         "marker": {
          "color": "#c8c8c8"
         },
         "name": "(t) Assembly: 223-305",
         "orientation": "h",
         "text": "t",
         "textposition": "inside",
         "type": "bar",
         "x": [
          82
         ],
         "y": [
          1
         ]
        },
        {
         "base": [
          306
         ],
         "marker": {
          "color": "gainsboro"
         },
         "name": "(u) Departure: 306-314",
         "orientation": "h",
         "text": "u",
         "textposition": "inside",
         "type": "bar",
         "x": [
          8
         ],
         "y": [
          1
         ]
        },
        {
         "base": [
          315
         ],
         "marker": {
          "color": "whitesmoke"
         },
         "name": "(v) Sacrifice: 315-318",
         "orientation": "h",
         "text": "v",
         "textposition": "inside",
         "type": "bar",
         "x": [
          3
         ],
         "y": [
          1
         ]
        },
        {
         "base": [
          318
         ],
         "marker": {
          "color": "lightgray"
         },
         "name": "(w) Visit: 318-318",
         "orientation": "h",
         "text": "w",
         "textposition": "inside",
         "type": "bar",
         "x": [
          0
         ],
         "y": [
          1
         ]
        },
        {
         "base": [
          349
         ],
         "marker": {
          "color": "#c8c8c8"
         },
         "name": "(x) Prayer and Thetis' theophany: 349-430",
         "orientation": "h",
         "text": "x",
         "textposition": "inside",
         "type": "bar",
         "x": [
          81
         ],
         "y": [
          1
         ]
        },
        {
         "base": [
          431
         ],
         "marker": {
          "color": "gainsboro"
         },
         "name": "(y) Arrival: 431-433",
         "orientation": "h",
         "text": "y",
         "textposition": "inside",
         "type": "bar",
         "x": [
          2
         ],
         "y": [
          1
         ]
        },
        {
         "base": [
          531
         ],
         "marker": {
          "color": "whitesmoke"
         },
         "name": "(z) Divine Feast (n): 531-611",
         "orientation": "h",
         "text": "z",
         "textposition": "inside",
         "type": "bar",
         "x": [
          80
         ],
         "y": [
          1
         ]
        }
       ],
       "layout": {
        "autosize": false,
        "barmode": "relative",
        "height": 2000,
        "template": {
         "data": {
          "bar": [
           {
            "error_x": {
             "color": "#2a3f5f"
            },
            "error_y": {
             "color": "#2a3f5f"
            },
            "marker": {
             "line": {
              "color": "#E5ECF6",
              "width": 0.5
             }
            },
            "type": "bar"
           }
          ],
          "barpolar": [
           {
            "marker": {
             "line": {
              "color": "#E5ECF6",
              "width": 0.5
             }
            },
            "type": "barpolar"
           }
          ],
          "carpet": [
           {
            "aaxis": {
             "endlinecolor": "#2a3f5f",
             "gridcolor": "white",
             "linecolor": "white",
             "minorgridcolor": "white",
             "startlinecolor": "#2a3f5f"
            },
            "baxis": {
             "endlinecolor": "#2a3f5f",
             "gridcolor": "white",
             "linecolor": "white",
             "minorgridcolor": "white",
             "startlinecolor": "#2a3f5f"
            },
            "type": "carpet"
           }
          ],
          "choropleth": [
           {
            "colorbar": {
             "outlinewidth": 0,
             "ticks": ""
            },
            "type": "choropleth"
           }
          ],
          "contour": [
           {
            "colorbar": {
             "outlinewidth": 0,
             "ticks": ""
            },
            "colorscale": [
             [
              0,
              "#0d0887"
             ],
             [
              0.1111111111111111,
              "#46039f"
             ],
             [
              0.2222222222222222,
              "#7201a8"
             ],
             [
              0.3333333333333333,
              "#9c179e"
             ],
             [
              0.4444444444444444,
              "#bd3786"
             ],
             [
              0.5555555555555556,
              "#d8576b"
             ],
             [
              0.6666666666666666,
              "#ed7953"
             ],
             [
              0.7777777777777778,
              "#fb9f3a"
             ],
             [
              0.8888888888888888,
              "#fdca26"
             ],
             [
              1,
              "#f0f921"
             ]
            ],
            "type": "contour"
           }
          ],
          "contourcarpet": [
           {
            "colorbar": {
             "outlinewidth": 0,
             "ticks": ""
            },
            "type": "contourcarpet"
           }
          ],
          "heatmap": [
           {
            "colorbar": {
             "outlinewidth": 0,
             "ticks": ""
            },
            "colorscale": [
             [
              0,
              "#0d0887"
             ],
             [
              0.1111111111111111,
              "#46039f"
             ],
             [
              0.2222222222222222,
              "#7201a8"
             ],
             [
              0.3333333333333333,
              "#9c179e"
             ],
             [
              0.4444444444444444,
              "#bd3786"
             ],
             [
              0.5555555555555556,
              "#d8576b"
             ],
             [
              0.6666666666666666,
              "#ed7953"
             ],
             [
              0.7777777777777778,
              "#fb9f3a"
             ],
             [
              0.8888888888888888,
              "#fdca26"
             ],
             [
              1,
              "#f0f921"
             ]
            ],
            "type": "heatmap"
           }
          ],
          "heatmapgl": [
           {
            "colorbar": {
             "outlinewidth": 0,
             "ticks": ""
            },
            "colorscale": [
             [
              0,
              "#0d0887"
             ],
             [
              0.1111111111111111,
              "#46039f"
             ],
             [
              0.2222222222222222,
              "#7201a8"
             ],
             [
              0.3333333333333333,
              "#9c179e"
             ],
             [
              0.4444444444444444,
              "#bd3786"
             ],
             [
              0.5555555555555556,
              "#d8576b"
             ],
             [
              0.6666666666666666,
              "#ed7953"
             ],
             [
              0.7777777777777778,
              "#fb9f3a"
             ],
             [
              0.8888888888888888,
              "#fdca26"
             ],
             [
              1,
              "#f0f921"
             ]
            ],
            "type": "heatmapgl"
           }
          ],
          "histogram": [
           {
            "marker": {
             "colorbar": {
              "outlinewidth": 0,
              "ticks": ""
             }
            },
            "type": "histogram"
           }
          ],
          "histogram2d": [
           {
            "colorbar": {
             "outlinewidth": 0,
             "ticks": ""
            },
            "colorscale": [
             [
              0,
              "#0d0887"
             ],
             [
              0.1111111111111111,
              "#46039f"
             ],
             [
              0.2222222222222222,
              "#7201a8"
             ],
             [
              0.3333333333333333,
              "#9c179e"
             ],
             [
              0.4444444444444444,
              "#bd3786"
             ],
             [
              0.5555555555555556,
              "#d8576b"
             ],
             [
              0.6666666666666666,
              "#ed7953"
             ],
             [
              0.7777777777777778,
              "#fb9f3a"
             ],
             [
              0.8888888888888888,
              "#fdca26"
             ],
             [
              1,
              "#f0f921"
             ]
            ],
            "type": "histogram2d"
           }
          ],
          "histogram2dcontour": [
           {
            "colorbar": {
             "outlinewidth": 0,
             "ticks": ""
            },
            "colorscale": [
             [
              0,
              "#0d0887"
             ],
             [
              0.1111111111111111,
              "#46039f"
             ],
             [
              0.2222222222222222,
              "#7201a8"
             ],
             [
              0.3333333333333333,
              "#9c179e"
             ],
             [
              0.4444444444444444,
              "#bd3786"
             ],
             [
              0.5555555555555556,
              "#d8576b"
             ],
             [
              0.6666666666666666,
              "#ed7953"
             ],
             [
              0.7777777777777778,
              "#fb9f3a"
             ],
             [
              0.8888888888888888,
              "#fdca26"
             ],
             [
              1,
              "#f0f921"
             ]
            ],
            "type": "histogram2dcontour"
           }
          ],
          "mesh3d": [
           {
            "colorbar": {
             "outlinewidth": 0,
             "ticks": ""
            },
            "type": "mesh3d"
           }
          ],
          "parcoords": [
           {
            "line": {
             "colorbar": {
              "outlinewidth": 0,
              "ticks": ""
             }
            },
            "type": "parcoords"
           }
          ],
          "pie": [
           {
            "automargin": true,
            "type": "pie"
           }
          ],
          "scatter": [
           {
            "marker": {
             "colorbar": {
              "outlinewidth": 0,
              "ticks": ""
             }
            },
            "type": "scatter"
           }
          ],
          "scatter3d": [
           {
            "line": {
             "colorbar": {
              "outlinewidth": 0,
              "ticks": ""
             }
            },
            "marker": {
             "colorbar": {
              "outlinewidth": 0,
              "ticks": ""
             }
            },
            "type": "scatter3d"
           }
          ],
          "scattercarpet": [
           {
            "marker": {
             "colorbar": {
              "outlinewidth": 0,
              "ticks": ""
             }
            },
            "type": "scattercarpet"
           }
          ],
          "scattergeo": [
           {
            "marker": {
             "colorbar": {
              "outlinewidth": 0,
              "ticks": ""
             }
            },
            "type": "scattergeo"
           }
          ],
          "scattergl": [
           {
            "marker": {
             "colorbar": {
              "outlinewidth": 0,
              "ticks": ""
             }
            },
            "type": "scattergl"
           }
          ],
          "scattermapbox": [
           {
            "marker": {
             "colorbar": {
              "outlinewidth": 0,
              "ticks": ""
             }
            },
            "type": "scattermapbox"
           }
          ],
          "scatterpolar": [
           {
            "marker": {
             "colorbar": {
              "outlinewidth": 0,
              "ticks": ""
             }
            },
            "type": "scatterpolar"
           }
          ],
          "scatterpolargl": [
           {
            "marker": {
             "colorbar": {
              "outlinewidth": 0,
              "ticks": ""
             }
            },
            "type": "scatterpolargl"
           }
          ],
          "scatterternary": [
           {
            "marker": {
             "colorbar": {
              "outlinewidth": 0,
              "ticks": ""
             }
            },
            "type": "scatterternary"
           }
          ],
          "surface": [
           {
            "colorbar": {
             "outlinewidth": 0,
             "ticks": ""
            },
            "colorscale": [
             [
              0,
              "#0d0887"
             ],
             [
              0.1111111111111111,
              "#46039f"
             ],
             [
              0.2222222222222222,
              "#7201a8"
             ],
             [
              0.3333333333333333,
              "#9c179e"
             ],
             [
              0.4444444444444444,
              "#bd3786"
             ],
             [
              0.5555555555555556,
              "#d8576b"
             ],
             [
              0.6666666666666666,
              "#ed7953"
             ],
             [
              0.7777777777777778,
              "#fb9f3a"
             ],
             [
              0.8888888888888888,
              "#fdca26"
             ],
             [
              1,
              "#f0f921"
             ]
            ],
            "type": "surface"
           }
          ],
          "table": [
           {
            "cells": {
             "fill": {
              "color": "#EBF0F8"
             },
             "line": {
              "color": "white"
             }
            },
            "header": {
             "fill": {
              "color": "#C8D4E3"
             },
             "line": {
              "color": "white"
             }
            },
            "type": "table"
           }
          ]
         },
         "layout": {
          "annotationdefaults": {
           "arrowcolor": "#2a3f5f",
           "arrowhead": 0,
           "arrowwidth": 1
          },
          "coloraxis": {
           "colorbar": {
            "outlinewidth": 0,
            "ticks": ""
           }
          },
          "colorscale": {
           "diverging": [
            [
             0,
             "#8e0152"
            ],
            [
             0.1,
             "#c51b7d"
            ],
            [
             0.2,
             "#de77ae"
            ],
            [
             0.3,
             "#f1b6da"
            ],
            [
             0.4,
             "#fde0ef"
            ],
            [
             0.5,
             "#f7f7f7"
            ],
            [
             0.6,
             "#e6f5d0"
            ],
            [
             0.7,
             "#b8e186"
            ],
            [
             0.8,
             "#7fbc41"
            ],
            [
             0.9,
             "#4d9221"
            ],
            [
             1,
             "#276419"
            ]
           ],
           "sequential": [
            [
             0,
             "#0d0887"
            ],
            [
             0.1111111111111111,
             "#46039f"
            ],
            [
             0.2222222222222222,
             "#7201a8"
            ],
            [
             0.3333333333333333,
             "#9c179e"
            ],
            [
             0.4444444444444444,
             "#bd3786"
            ],
            [
             0.5555555555555556,
             "#d8576b"
            ],
            [
             0.6666666666666666,
             "#ed7953"
            ],
            [
             0.7777777777777778,
             "#fb9f3a"
            ],
            [
             0.8888888888888888,
             "#fdca26"
            ],
            [
             1,
             "#f0f921"
            ]
           ],
           "sequentialminus": [
            [
             0,
             "#0d0887"
            ],
            [
             0.1111111111111111,
             "#46039f"
            ],
            [
             0.2222222222222222,
             "#7201a8"
            ],
            [
             0.3333333333333333,
             "#9c179e"
            ],
            [
             0.4444444444444444,
             "#bd3786"
            ],
            [
             0.5555555555555556,
             "#d8576b"
            ],
            [
             0.6666666666666666,
             "#ed7953"
            ],
            [
             0.7777777777777778,
             "#fb9f3a"
            ],
            [
             0.8888888888888888,
             "#fdca26"
            ],
            [
             1,
             "#f0f921"
            ]
           ]
          },
          "colorway": [
           "#636efa",
           "#EF553B",
           "#00cc96",
           "#ab63fa",
           "#FFA15A",
           "#19d3f3",
           "#FF6692",
           "#B6E880",
           "#FF97FF",
           "#FECB52"
          ],
          "font": {
           "color": "#2a3f5f"
          },
          "geo": {
           "bgcolor": "white",
           "lakecolor": "white",
           "landcolor": "#E5ECF6",
           "showlakes": true,
           "showland": true,
           "subunitcolor": "white"
          },
          "hoverlabel": {
           "align": "left"
          },
          "hovermode": "closest",
          "mapbox": {
           "style": "light"
          },
          "paper_bgcolor": "white",
          "plot_bgcolor": "#E5ECF6",
          "polar": {
           "angularaxis": {
            "gridcolor": "white",
            "linecolor": "white",
            "ticks": ""
           },
           "bgcolor": "#E5ECF6",
           "radialaxis": {
            "gridcolor": "white",
            "linecolor": "white",
            "ticks": ""
           }
          },
          "scene": {
           "xaxis": {
            "backgroundcolor": "#E5ECF6",
            "gridcolor": "white",
            "gridwidth": 2,
            "linecolor": "white",
            "showbackground": true,
            "ticks": "",
            "zerolinecolor": "white"
           },
           "yaxis": {
            "backgroundcolor": "#E5ECF6",
            "gridcolor": "white",
            "gridwidth": 2,
            "linecolor": "white",
            "showbackground": true,
            "ticks": "",
            "zerolinecolor": "white"
           },
           "zaxis": {
            "backgroundcolor": "#E5ECF6",
            "gridcolor": "white",
            "gridwidth": 2,
            "linecolor": "white",
            "showbackground": true,
            "ticks": "",
            "zerolinecolor": "white"
           }
          },
          "shapedefaults": {
           "line": {
            "color": "#2a3f5f"
           }
          },
          "ternary": {
           "aaxis": {
            "gridcolor": "white",
            "linecolor": "white",
            "ticks": ""
           },
           "baxis": {
            "gridcolor": "white",
            "linecolor": "white",
            "ticks": ""
           },
           "bgcolor": "#E5ECF6",
           "caxis": {
            "gridcolor": "white",
            "linecolor": "white",
            "ticks": ""
           }
          },
          "title": {
           "x": 0.05
          },
          "xaxis": {
           "automargin": true,
           "gridcolor": "white",
           "linecolor": "white",
           "ticks": "",
           "title": {
            "standoff": 15
           },
           "zerolinecolor": "white",
           "zerolinewidth": 2
          },
          "yaxis": {
           "automargin": true,
           "gridcolor": "white",
           "linecolor": "white",
           "ticks": "",
           "title": {
            "standoff": 15
           },
           "zerolinecolor": "white",
           "zerolinewidth": 2
          }
         }
        },
        "title": {
         "text": "Book 2"
        },
        "width": 2000,
        "xaxis": {
         "title": {
          "text": "Line Number"
         }
        },
        "yaxis": {
         "tickmode": "array",
         "ticktext": [
          "Story Time",
          "Narrative Time"
         ],
         "tickvals": [
          1,
          2
         ]
        }
       }
      },
      "text/html": [
       "<div>\n",
       "        \n",
       "        \n",
       "            <div id=\"0bc561ce-8d4b-4f92-9b1e-21b7ed6d60cb\" class=\"plotly-graph-div\" style=\"height:2000px; width:2000px;\"></div>\n",
       "            <script type=\"text/javascript\">\n",
       "                require([\"plotly\"], function(Plotly) {\n",
       "                    window.PLOTLYENV=window.PLOTLYENV || {};\n",
       "                    \n",
       "                if (document.getElementById(\"0bc561ce-8d4b-4f92-9b1e-21b7ed6d60cb\")) {\n",
       "                    Plotly.newPlot(\n",
       "                        '0bc561ce-8d4b-4f92-9b1e-21b7ed6d60cb',\n",
       "                        [{\"base\": [1], \"marker\": {\"color\": \"whitesmoke\"}, \"name\": \"(n) Proem: 1-8\", \"orientation\": \"h\", \"text\": \"n\", \"textposition\": \"inside\", \"type\": \"bar\", \"x\": [7], \"y\": [2]}, {\"base\": [421], \"marker\": {\"color\": \"lightgray\"}, \"name\": \"(o) Divine Feast (s): 421-427\", \"orientation\": \"h\", \"text\": \"o\", \"textposition\": \"inside\", \"type\": \"bar\", \"x\": [6], \"y\": [2]}, {\"base\": [9], \"marker\": {\"color\": \"#c8c8c8\"}, \"name\": \"(p) Chryses' supplication: 9-24\", \"orientation\": \"h\", \"text\": \"p\", \"textposition\": \"inside\", \"type\": \"bar\", \"x\": [15], \"y\": [1]}, {\"base\": [35], \"marker\": {\"color\": \"gainsboro\"}, \"name\": \"(q) Chryses' prayer: 35-43\", \"orientation\": \"h\", \"text\": \"q\", \"textposition\": \"inside\", \"type\": \"bar\", \"x\": [8], \"y\": [1]}, {\"base\": [54], \"marker\": {\"color\": \"whitesmoke\"}, \"name\": \"(r) Assembly: 54-194\", \"orientation\": \"h\", \"text\": \"r\", \"textposition\": \"inside\", \"type\": \"bar\", \"x\": [140], \"y\": [1]}, {\"base\": [195], \"marker\": {\"color\": \"lightgray\"}, \"name\": \"(s) Athena's theophany: 195-222\", \"orientation\": \"h\", \"text\": \"s\", \"textposition\": \"inside\", \"type\": \"bar\", \"x\": [27], \"y\": [1]}, {\"base\": [223], \"marker\": {\"color\": \"#c8c8c8\"}, \"name\": \"(t) Assembly: 223-305\", \"orientation\": \"h\", \"text\": \"t\", \"textposition\": \"inside\", \"type\": \"bar\", \"x\": [82], \"y\": [1]}, {\"base\": [306], \"marker\": {\"color\": \"gainsboro\"}, \"name\": \"(u) Departure: 306-314\", \"orientation\": \"h\", \"text\": \"u\", \"textposition\": \"inside\", \"type\": \"bar\", \"x\": [8], \"y\": [1]}, {\"base\": [315], \"marker\": {\"color\": \"whitesmoke\"}, \"name\": \"(v) Sacrifice: 315-318\", \"orientation\": \"h\", \"text\": \"v\", \"textposition\": \"inside\", \"type\": \"bar\", \"x\": [3], \"y\": [1]}, {\"base\": [318], \"marker\": {\"color\": \"lightgray\"}, \"name\": \"(w) Visit: 318-318\", \"orientation\": \"h\", \"text\": \"w\", \"textposition\": \"inside\", \"type\": \"bar\", \"x\": [0], \"y\": [1]}, {\"base\": [349], \"marker\": {\"color\": \"#c8c8c8\"}, \"name\": \"(x) Prayer and Thetis' theophany: 349-430\", \"orientation\": \"h\", \"text\": \"x\", \"textposition\": \"inside\", \"type\": \"bar\", \"x\": [81], \"y\": [1]}, {\"base\": [431], \"marker\": {\"color\": \"gainsboro\"}, \"name\": \"(y) Arrival: 431-433\", \"orientation\": \"h\", \"text\": \"y\", \"textposition\": \"inside\", \"type\": \"bar\", \"x\": [2], \"y\": [1]}, {\"base\": [531], \"marker\": {\"color\": \"whitesmoke\"}, \"name\": \"(z) Divine Feast (n): 531-611\", \"orientation\": \"h\", \"text\": \"z\", \"textposition\": \"inside\", \"type\": \"bar\", \"x\": [80], \"y\": [1]}],\n",
       "                        {\"autosize\": false, \"barmode\": \"relative\", \"height\": 2000, \"template\": {\"data\": {\"bar\": [{\"error_x\": {\"color\": \"#2a3f5f\"}, \"error_y\": {\"color\": \"#2a3f5f\"}, \"marker\": {\"line\": {\"color\": \"#E5ECF6\", \"width\": 0.5}}, \"type\": \"bar\"}], \"barpolar\": [{\"marker\": {\"line\": {\"color\": \"#E5ECF6\", \"width\": 0.5}}, \"type\": \"barpolar\"}], \"carpet\": [{\"aaxis\": {\"endlinecolor\": \"#2a3f5f\", \"gridcolor\": \"white\", \"linecolor\": \"white\", \"minorgridcolor\": \"white\", \"startlinecolor\": \"#2a3f5f\"}, \"baxis\": {\"endlinecolor\": \"#2a3f5f\", \"gridcolor\": \"white\", \"linecolor\": \"white\", \"minorgridcolor\": \"white\", \"startlinecolor\": \"#2a3f5f\"}, \"type\": \"carpet\"}], \"choropleth\": [{\"colorbar\": {\"outlinewidth\": 0, \"ticks\": \"\"}, \"type\": \"choropleth\"}], \"contour\": [{\"colorbar\": {\"outlinewidth\": 0, \"ticks\": \"\"}, \"colorscale\": [[0.0, \"#0d0887\"], [0.1111111111111111, \"#46039f\"], [0.2222222222222222, \"#7201a8\"], [0.3333333333333333, \"#9c179e\"], [0.4444444444444444, \"#bd3786\"], [0.5555555555555556, \"#d8576b\"], [0.6666666666666666, \"#ed7953\"], [0.7777777777777778, \"#fb9f3a\"], [0.8888888888888888, \"#fdca26\"], [1.0, \"#f0f921\"]], \"type\": \"contour\"}], \"contourcarpet\": [{\"colorbar\": {\"outlinewidth\": 0, \"ticks\": \"\"}, \"type\": \"contourcarpet\"}], \"heatmap\": [{\"colorbar\": {\"outlinewidth\": 0, \"ticks\": \"\"}, \"colorscale\": [[0.0, \"#0d0887\"], [0.1111111111111111, \"#46039f\"], [0.2222222222222222, \"#7201a8\"], [0.3333333333333333, \"#9c179e\"], [0.4444444444444444, \"#bd3786\"], [0.5555555555555556, \"#d8576b\"], [0.6666666666666666, \"#ed7953\"], [0.7777777777777778, \"#fb9f3a\"], [0.8888888888888888, \"#fdca26\"], [1.0, \"#f0f921\"]], \"type\": \"heatmap\"}], \"heatmapgl\": [{\"colorbar\": {\"outlinewidth\": 0, \"ticks\": \"\"}, \"colorscale\": [[0.0, \"#0d0887\"], [0.1111111111111111, \"#46039f\"], [0.2222222222222222, \"#7201a8\"], [0.3333333333333333, \"#9c179e\"], [0.4444444444444444, \"#bd3786\"], [0.5555555555555556, \"#d8576b\"], [0.6666666666666666, \"#ed7953\"], [0.7777777777777778, \"#fb9f3a\"], [0.8888888888888888, \"#fdca26\"], [1.0, \"#f0f921\"]], \"type\": \"heatmapgl\"}], \"histogram\": [{\"marker\": {\"colorbar\": {\"outlinewidth\": 0, \"ticks\": \"\"}}, \"type\": \"histogram\"}], \"histogram2d\": [{\"colorbar\": {\"outlinewidth\": 0, \"ticks\": \"\"}, \"colorscale\": [[0.0, \"#0d0887\"], [0.1111111111111111, \"#46039f\"], [0.2222222222222222, \"#7201a8\"], [0.3333333333333333, \"#9c179e\"], [0.4444444444444444, \"#bd3786\"], [0.5555555555555556, \"#d8576b\"], [0.6666666666666666, \"#ed7953\"], [0.7777777777777778, \"#fb9f3a\"], [0.8888888888888888, \"#fdca26\"], [1.0, \"#f0f921\"]], \"type\": \"histogram2d\"}], \"histogram2dcontour\": [{\"colorbar\": {\"outlinewidth\": 0, \"ticks\": \"\"}, \"colorscale\": [[0.0, \"#0d0887\"], [0.1111111111111111, \"#46039f\"], [0.2222222222222222, \"#7201a8\"], [0.3333333333333333, \"#9c179e\"], [0.4444444444444444, \"#bd3786\"], [0.5555555555555556, \"#d8576b\"], [0.6666666666666666, \"#ed7953\"], [0.7777777777777778, \"#fb9f3a\"], [0.8888888888888888, \"#fdca26\"], [1.0, \"#f0f921\"]], \"type\": \"histogram2dcontour\"}], \"mesh3d\": [{\"colorbar\": {\"outlinewidth\": 0, \"ticks\": \"\"}, \"type\": \"mesh3d\"}], \"parcoords\": [{\"line\": {\"colorbar\": {\"outlinewidth\": 0, \"ticks\": \"\"}}, \"type\": \"parcoords\"}], \"pie\": [{\"automargin\": true, \"type\": \"pie\"}], \"scatter\": [{\"marker\": {\"colorbar\": {\"outlinewidth\": 0, \"ticks\": \"\"}}, \"type\": \"scatter\"}], \"scatter3d\": [{\"line\": {\"colorbar\": {\"outlinewidth\": 0, \"ticks\": \"\"}}, \"marker\": {\"colorbar\": {\"outlinewidth\": 0, \"ticks\": \"\"}}, \"type\": \"scatter3d\"}], \"scattercarpet\": [{\"marker\": {\"colorbar\": {\"outlinewidth\": 0, \"ticks\": \"\"}}, \"type\": \"scattercarpet\"}], \"scattergeo\": [{\"marker\": {\"colorbar\": {\"outlinewidth\": 0, \"ticks\": \"\"}}, \"type\": \"scattergeo\"}], \"scattergl\": [{\"marker\": {\"colorbar\": {\"outlinewidth\": 0, \"ticks\": \"\"}}, \"type\": \"scattergl\"}], \"scattermapbox\": [{\"marker\": {\"colorbar\": {\"outlinewidth\": 0, \"ticks\": \"\"}}, \"type\": \"scattermapbox\"}], \"scatterpolar\": [{\"marker\": {\"colorbar\": {\"outlinewidth\": 0, \"ticks\": \"\"}}, \"type\": \"scatterpolar\"}], \"scatterpolargl\": [{\"marker\": {\"colorbar\": {\"outlinewidth\": 0, \"ticks\": \"\"}}, \"type\": \"scatterpolargl\"}], \"scatterternary\": [{\"marker\": {\"colorbar\": {\"outlinewidth\": 0, \"ticks\": \"\"}}, \"type\": \"scatterternary\"}], \"surface\": [{\"colorbar\": {\"outlinewidth\": 0, \"ticks\": \"\"}, \"colorscale\": [[0.0, \"#0d0887\"], [0.1111111111111111, \"#46039f\"], [0.2222222222222222, \"#7201a8\"], [0.3333333333333333, \"#9c179e\"], [0.4444444444444444, \"#bd3786\"], [0.5555555555555556, \"#d8576b\"], [0.6666666666666666, \"#ed7953\"], [0.7777777777777778, \"#fb9f3a\"], [0.8888888888888888, \"#fdca26\"], [1.0, \"#f0f921\"]], \"type\": \"surface\"}], \"table\": [{\"cells\": {\"fill\": {\"color\": \"#EBF0F8\"}, \"line\": {\"color\": \"white\"}}, \"header\": {\"fill\": {\"color\": \"#C8D4E3\"}, \"line\": {\"color\": \"white\"}}, \"type\": \"table\"}]}, \"layout\": {\"annotationdefaults\": {\"arrowcolor\": \"#2a3f5f\", \"arrowhead\": 0, \"arrowwidth\": 1}, \"coloraxis\": {\"colorbar\": {\"outlinewidth\": 0, \"ticks\": \"\"}}, \"colorscale\": {\"diverging\": [[0, \"#8e0152\"], [0.1, \"#c51b7d\"], [0.2, \"#de77ae\"], [0.3, \"#f1b6da\"], [0.4, \"#fde0ef\"], [0.5, \"#f7f7f7\"], [0.6, \"#e6f5d0\"], [0.7, \"#b8e186\"], [0.8, \"#7fbc41\"], [0.9, \"#4d9221\"], [1, \"#276419\"]], \"sequential\": [[0.0, \"#0d0887\"], [0.1111111111111111, \"#46039f\"], [0.2222222222222222, \"#7201a8\"], [0.3333333333333333, \"#9c179e\"], [0.4444444444444444, \"#bd3786\"], [0.5555555555555556, \"#d8576b\"], [0.6666666666666666, \"#ed7953\"], [0.7777777777777778, \"#fb9f3a\"], [0.8888888888888888, \"#fdca26\"], [1.0, \"#f0f921\"]], \"sequentialminus\": [[0.0, \"#0d0887\"], [0.1111111111111111, \"#46039f\"], [0.2222222222222222, \"#7201a8\"], [0.3333333333333333, \"#9c179e\"], [0.4444444444444444, \"#bd3786\"], [0.5555555555555556, \"#d8576b\"], [0.6666666666666666, \"#ed7953\"], [0.7777777777777778, \"#fb9f3a\"], [0.8888888888888888, \"#fdca26\"], [1.0, \"#f0f921\"]]}, \"colorway\": [\"#636efa\", \"#EF553B\", \"#00cc96\", \"#ab63fa\", \"#FFA15A\", \"#19d3f3\", \"#FF6692\", \"#B6E880\", \"#FF97FF\", \"#FECB52\"], \"font\": {\"color\": \"#2a3f5f\"}, \"geo\": {\"bgcolor\": \"white\", \"lakecolor\": \"white\", \"landcolor\": \"#E5ECF6\", \"showlakes\": true, \"showland\": true, \"subunitcolor\": \"white\"}, \"hoverlabel\": {\"align\": \"left\"}, \"hovermode\": \"closest\", \"mapbox\": {\"style\": \"light\"}, \"paper_bgcolor\": \"white\", \"plot_bgcolor\": \"#E5ECF6\", \"polar\": {\"angularaxis\": {\"gridcolor\": \"white\", \"linecolor\": \"white\", \"ticks\": \"\"}, \"bgcolor\": \"#E5ECF6\", \"radialaxis\": {\"gridcolor\": \"white\", \"linecolor\": \"white\", \"ticks\": \"\"}}, \"scene\": {\"xaxis\": {\"backgroundcolor\": \"#E5ECF6\", \"gridcolor\": \"white\", \"gridwidth\": 2, \"linecolor\": \"white\", \"showbackground\": true, \"ticks\": \"\", \"zerolinecolor\": \"white\"}, \"yaxis\": {\"backgroundcolor\": \"#E5ECF6\", \"gridcolor\": \"white\", \"gridwidth\": 2, \"linecolor\": \"white\", \"showbackground\": true, \"ticks\": \"\", \"zerolinecolor\": \"white\"}, \"zaxis\": {\"backgroundcolor\": \"#E5ECF6\", \"gridcolor\": \"white\", \"gridwidth\": 2, \"linecolor\": \"white\", \"showbackground\": true, \"ticks\": \"\", \"zerolinecolor\": \"white\"}}, \"shapedefaults\": {\"line\": {\"color\": \"#2a3f5f\"}}, \"ternary\": {\"aaxis\": {\"gridcolor\": \"white\", \"linecolor\": \"white\", \"ticks\": \"\"}, \"baxis\": {\"gridcolor\": \"white\", \"linecolor\": \"white\", \"ticks\": \"\"}, \"bgcolor\": \"#E5ECF6\", \"caxis\": {\"gridcolor\": \"white\", \"linecolor\": \"white\", \"ticks\": \"\"}}, \"title\": {\"x\": 0.05}, \"xaxis\": {\"automargin\": true, \"gridcolor\": \"white\", \"linecolor\": \"white\", \"ticks\": \"\", \"title\": {\"standoff\": 15}, \"zerolinecolor\": \"white\", \"zerolinewidth\": 2}, \"yaxis\": {\"automargin\": true, \"gridcolor\": \"white\", \"linecolor\": \"white\", \"ticks\": \"\", \"title\": {\"standoff\": 15}, \"zerolinecolor\": \"white\", \"zerolinewidth\": 2}}}, \"title\": {\"text\": \"Book 2\"}, \"width\": 2000, \"xaxis\": {\"title\": {\"text\": \"Line Number\"}}, \"yaxis\": {\"tickmode\": \"array\", \"ticktext\": [\"Story Time\", \"Narrative Time\"], \"tickvals\": [1, 2]}},\n",
       "                        {\"responsive\": true}\n",
       "                    ).then(function(){\n",
       "                            \n",
       "var gd = document.getElementById('0bc561ce-8d4b-4f92-9b1e-21b7ed6d60cb');\n",
       "var x = new MutationObserver(function (mutations, observer) {{\n",
       "        var display = window.getComputedStyle(gd).display;\n",
       "        if (!display || display === 'none') {{\n",
       "            console.log([gd, 'removed!']);\n",
       "            Plotly.purge(gd);\n",
       "            observer.disconnect();\n",
       "        }}\n",
       "}});\n",
       "\n",
       "// Listen for the removal of the full notebook cells\n",
       "var notebookContainer = gd.closest('#notebook-container');\n",
       "if (notebookContainer) {{\n",
       "    x.observe(notebookContainer, {childList: true});\n",
       "}}\n",
       "\n",
       "// Listen for the clearing of the current output cell\n",
       "var outputEl = gd.closest('.output');\n",
       "if (outputEl) {{\n",
       "    x.observe(outputEl, {childList: true});\n",
       "}}\n",
       "\n",
       "                        })\n",
       "                };\n",
       "                });\n",
       "            </script>\n",
       "        </div>"
      ]
     },
     "metadata": {},
     "output_type": "display_data"
    }
   ],
   "source": [
    "# Settings:\n",
    "FILENAME = \"C:/Users/Tristan/Projects/feasts.xlsx\" # Change this to your filepath (supports .csv and .xlsx)\n",
    "# File format: name, book, time, start line, end line, color (optional)\n",
    "\n",
    "# For excel:\n",
    "WORKSHEET = \"feasts\" # specify the name of the worksheet you want to be read.\n",
    "\n",
    "# Here you can specify which colors are associated with each number specified in your excel sheet\n",
    "# If your excel sheet lacks the color column, we will rotate through the colors listed below: \n",
    "COLOR_MAP = {\n",
    "    1: \"#c8c8c8\",\n",
    "    2: \"gainsboro\",\n",
    "    3: \"whitesmoke\",\n",
    "    4: \"lightgray\",\n",
    "}\n",
    "# Further information on colors can be found at: https://www.cssportal.com/css3-color-names/\n",
    "# Note: be sure to write color names in all lowercase when typing them into the color map\n",
    "# Grayscale colors: https://www.w3schools.com/colors/colors_shades.asp\n",
    "# you can use nameless colors by specifying their hex value\n",
    "# for example, by writing \"#dcdcdc\" rather than \"gainsboro\", you get the same color\n",
    "\n",
    "# Here you can specify the names of the plots that are generated\n",
    "BOOK_MAP = {\n",
    "    1: \"Book 1\",\n",
    "    2: \"Book 2\"\n",
    "}\n",
    "\n",
    "# Here you control the labelling of the Y-Axis:\n",
    "Y_AXIS = {\n",
    "    1: \"Story Time\",\n",
    "    2: \"Narrative Time\"\n",
    "}\n",
    "   \n",
    "# This controls the title of the X-Axis:\n",
    "X_AXIS_TITLE = \"Line Number\"\n",
    "\n",
    "# These control the resolution of the produced image:\n",
    "# Set width and height to 0 to get image autosized to your window size\n",
    "WIDTH = 2000\n",
    "HEIGHT = 2000\n",
    "\n",
    "\n",
    "# Here there be dragons...\n",
    "import string\n",
    "import plotly\n",
    "import plotly.graph_objects as go\n",
    "from openpyxl import load_workbook\n",
    "\n",
    "LABELS = iter(string.ascii_lowercase)\n",
    "\n",
    "class Scene():\n",
    "    def __init__(self, name, book, time, start, end, color=None):\n",
    "        self.name = name\n",
    "        self.book = book\n",
    "        self.time = time\n",
    "        self.start = start\n",
    "        self.end = end\n",
    "        self.color = color\n",
    "        self.label = ''\n",
    "        \n",
    "def create_scene(name, book, time, start, end, color=None):\n",
    "    return Scene(name, int(book), int(time), int(start), int(end), int(color) if color else None)\n",
    "        \n",
    "def import_from_file():\n",
    "    filename = FILENAME\n",
    "    filetype = FILENAME.split(\".\")[-1]\n",
    "    return import_from_csv(filename) if filetype == 'csv' else import_from_xls(filename)\n",
    "    \n",
    "def import_from_csv(filename):\n",
    "    scenes = []\n",
    "    with open(filename) as f:\n",
    "        for line in f:\n",
    "            scene_data = line.strip('\\n').split(\",\")\n",
    "            scene = create_scene(*scene_data)\n",
    "            scenes.append(scene)\n",
    "    return scenes\n",
    "\n",
    "def import_from_xls(file_name):\n",
    "    scenes = []\n",
    "    try:\n",
    "        wb = load_workbook(filename = file_name)\n",
    "    except FileNotFoundError as e:\n",
    "        print(\"Could not find file {}, please check your settings at the top of this page and try again.\".format(file_name))\n",
    "    \n",
    "    try:\n",
    "        ws = wb[WORKSHEET]\n",
    "    except KeyError as e:\n",
    "        print(\"Could not find worksheet {}. Please specify one of {}\".format(WORKSHEET, \", \".join(wb.sheetnames)))\n",
    "        ws = wb[wb.sheetnames[0]]\n",
    "    \n",
    "    for row in ws.iter_rows():\n",
    "        scene = create_scene(*[cell.internal_value for cell in row])\n",
    "        scenes.append(scene)\n",
    "    return scenes\n",
    "    \n",
    "\n",
    "class TextMap():\n",
    "    def __init__(self, scenes):\n",
    "        self.scenes = scenes\n",
    "        self.figs = {}\n",
    "        self.layout = self.create_layout()\n",
    "        self.sort_scenes()\n",
    "        self.add_bars()\n",
    "    \n",
    "    def sort_scenes(self):\n",
    "        self.scenes.sort(key=lambda scene: (scene.book, scene.time**-1, scene.start))\n",
    "\n",
    "    def create_layout(self):\n",
    "        if HEIGHT and WIDTH:\n",
    "            layout = go.Layout(\n",
    "                autosize=False,\n",
    "                width=WIDTH,\n",
    "                height=HEIGHT\n",
    "            )\n",
    "        else:\n",
    "            layout = go.Layout(autosize=True)\n",
    "        return layout\n",
    "        \n",
    "    def add_bars(self):\n",
    "        for scene in self.scenes:\n",
    "            scene.label = next(LABELS)\n",
    "            bar = go.Bar(x = [scene.end - scene.start],\n",
    "                        y = [scene.time],\n",
    "                        base = [scene.start],\n",
    "                        name = \"({}) {}: {}-{}\".format(scene.label, scene.name, scene.start, scene.end),\n",
    "                        orientation = 'h',\n",
    "                        text = scene.label,\n",
    "                        textposition = \"inside\"\n",
    "                    )\n",
    "            self.color_bar(scene, bar)\n",
    "        \n",
    "            if scene.book in self.figs and isinstance(self.figs[scene.book], go.Figure):\n",
    "                fig = self.figs[scene.book]\n",
    "            \n",
    "            else:\n",
    "                fig = go.Figure(layout=self.layout)\n",
    "                fig.update_layout(\n",
    "                    barmode='relative', \n",
    "                    title_text=BOOK_MAP[scene.book],\n",
    "                    xaxis_title = X_AXIS_TITLE,\n",
    "                    yaxis = dict(\n",
    "                        tickmode = 'array',\n",
    "                        tickvals = list(Y_AXIS.keys()),\n",
    "                        ticktext = list(Y_AXIS.values())\n",
    "                    )\n",
    "                )\n",
    "                self.figs[scene.book] = fig\n",
    "            \n",
    "            fig.add_trace(bar)\n",
    "    \n",
    "    def color_bar(self, scene, bar):\n",
    "        if not scene.color in COLOR_MAP:\n",
    "            color_list=list(COLOR_MAP.values())\n",
    "            scene.color = ord(scene.label)%len(color_list)\n",
    "            bar.marker.color = color_list[scene.color]\n",
    "            return\n",
    "        \n",
    "        bar.marker.color = COLOR_MAP[scene.color]        \n",
    "\n",
    "    def show(self):\n",
    "        for fig in self.figs.values():\n",
    "            fig.show()\n",
    "            \n",
    "scenes = import_from_file()\n",
    "tm = TextMap(scenes)\n",
    "tm.show()"
   ]
  },
  {
   "cell_type": "code",
   "execution_count": null,
   "metadata": {},
   "outputs": [],
   "source": []
  },
  {
   "cell_type": "code",
   "execution_count": null,
   "metadata": {},
   "outputs": [],
   "source": []
  }
 ],
 "metadata": {
  "kernelspec": {
   "display_name": "Python 3",
   "language": "python",
   "name": "python3"
  },
  "language_info": {
   "codemirror_mode": {
    "name": "ipython",
    "version": 3
   },
   "file_extension": ".py",
   "mimetype": "text/x-python",
   "name": "python",
   "nbconvert_exporter": "python",
   "pygments_lexer": "ipython3",
   "version": "3.5.6"
  }
 },
 "nbformat": 4,
 "nbformat_minor": 4
}
